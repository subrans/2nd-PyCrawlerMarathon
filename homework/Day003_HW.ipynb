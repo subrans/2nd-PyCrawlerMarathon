{
 "cells": [
  {
   "cell_type": "markdown",
   "metadata": {},
   "source": [
    "# Python 下載XML檔案與解析\n",
    "\n",
    "\n",
    "* 了解 xml 檔案格式與內容\n",
    "* 能夠利用套件存取 xml 格式的檔案\n"
   ]
  },
  {
   "cell_type": "markdown",
   "metadata": {},
   "source": [
    "## 作業目標\n",
    "\n",
    "* 比較一下範例檔案中的「File I/O」與「xmltodict」讀出來的內容有什麼差異\n",
    "\n",
    "* 根據範例檔案的結果：\n",
    "    1. 請問高雄市有多少地區有溫度資料？\n",
    "    2. 請取出每一個地區所記錄的第一個時間點跟溫度\n",
    "    3. 請取出第一個地區所記錄的每一個時間點跟溫度"
   ]
  },
  {
   "cell_type": "markdown",
   "metadata": {},
   "source": [
    "### 比較一下範例檔案中的「File I/O」與「xmltodict」讀出來的內容有什麼差異\n"
   ]
  },
  {
   "cell_type": "code",
   "execution_count": 1,
   "metadata": {},
   "outputs": [
    {
     "name": "stdout",
     "output_type": "stream",
     "text": [
      "臺灣各縣市鄉鎮未來3天(72小時)逐3小時天氣預報\n"
     ]
    }
   ],
   "source": [
    "'''\n",
    "Your Code\n",
    "'''\n",
    "fh = open(\"./data/64_72hr_CH.xml\", \"r\", encoding='UTF-8')\n",
    "xml = fh.read()\n",
    "fh.close()\n",
    "\n",
    "print(xml[418:443])"
   ]
  },
  {
   "cell_type": "code",
   "execution_count": 2,
   "metadata": {},
   "outputs": [],
   "source": [
    "import xmltodict\n",
    "d = dict(xmltodict.parse(xml))\n",
    "datasetDescription = d['cwbopendata']['dataset']['datasetInfo']['datasetDescription']"
   ]
  },
  {
   "cell_type": "code",
   "execution_count": 3,
   "metadata": {},
   "outputs": [
    {
     "name": "stdout",
     "output_type": "stream",
     "text": [
      "raw (offset 418~443): 臺灣各縣市鄉鎮未來3天(72小時)逐3小時天氣預報\n",
      "xml-to-dict (w/tags): 臺灣各縣市鄉鎮未來3天(72小時)逐3小時天氣預報\n"
     ]
    }
   ],
   "source": [
    "print(\"raw (offset 418~443):\", xml[418:443])\n",
    "print(\"xml-to-dict (w/tags):\",datasetDescription)"
   ]
  },
  {
   "cell_type": "markdown",
   "metadata": {},
   "source": [
    "### 根據範例檔案的結果：\n",
    "\n",
    "1. 請問高雄市有多少地區有溫度資料？\n",
    "2. 請取出每一個地區所記錄的第一個時間點跟溫度\n",
    "3. 請取出第一個地區所記錄的每一個時間點跟溫度"
   ]
  },
  {
   "cell_type": "code",
   "execution_count": 4,
   "metadata": {},
   "outputs": [
    {
     "name": "stdout",
     "output_type": "stream",
     "text": [
      "38\n"
     ]
    }
   ],
   "source": [
    "# 1. 請問高雄市有多少地區有溫度資料？\n",
    "\n",
    "'''\n",
    "Your Code\n",
    "'''\n",
    "locations = d['cwbopendata']['dataset']['locations']\n",
    "location = locations['location']\n",
    "\n",
    "wTemp = 0\n",
    "lNo = 0\n",
    "for l in location:\n",
    "    #print(l['locationName'])\n",
    "    lNo += 1\n",
    "    for w in l[\"weatherElement\"]:\n",
    "        if w[\"description\"] == \"溫度\":\n",
    "            wTemp += 1\n",
    "\n",
    "print(wTemp)"
   ]
  },
  {
   "cell_type": "code",
   "execution_count": 5,
   "metadata": {},
   "outputs": [
    {
     "name": "stdout",
     "output_type": "stream",
     "text": [
      "1 鹽埕區 22 2019-11-28T00:00:00+08:00\n",
      "2 鼓山區 22 2019-11-28T00:00:00+08:00\n",
      "3 左營區 21 2019-11-28T00:00:00+08:00\n",
      "4 楠梓區 21 2019-11-28T00:00:00+08:00\n",
      "5 三民區 22 2019-11-28T00:00:00+08:00\n",
      "6 新興區 22 2019-11-28T00:00:00+08:00\n",
      "7 前金區 22 2019-11-28T00:00:00+08:00\n",
      "8 苓雅區 22 2019-11-28T00:00:00+08:00\n",
      "9 前鎮區 22 2019-11-28T00:00:00+08:00\n",
      "10 旗津區 22 2019-11-28T00:00:00+08:00\n",
      "11 小港區 22 2019-11-28T00:00:00+08:00\n",
      "12 鳳山區 22 2019-11-28T00:00:00+08:00\n",
      "13 林園區 23 2019-11-28T00:00:00+08:00\n",
      "14 大寮區 22 2019-11-28T00:00:00+08:00\n",
      "15 大樹區 21 2019-11-28T00:00:00+08:00\n",
      "16 大社區 21 2019-11-28T00:00:00+08:00\n",
      "17 仁武區 21 2019-11-28T00:00:00+08:00\n",
      "18 鳥松區 21 2019-11-28T00:00:00+08:00\n",
      "19 岡山區 21 2019-11-28T00:00:00+08:00\n",
      "20 橋頭區 21 2019-11-28T00:00:00+08:00\n",
      "21 燕巢區 20 2019-11-28T00:00:00+08:00\n",
      "22 田寮區 19 2019-11-28T00:00:00+08:00\n",
      "23 阿蓮區 19 2019-11-28T00:00:00+08:00\n",
      "24 路竹區 21 2019-11-28T00:00:00+08:00\n",
      "25 湖內區 21 2019-11-28T00:00:00+08:00\n",
      "26 茄萣區 21 2019-11-28T00:00:00+08:00\n",
      "27 永安區 20 2019-11-28T00:00:00+08:00\n",
      "28 彌陀區 20 2019-11-28T00:00:00+08:00\n",
      "29 梓官區 20 2019-11-28T00:00:00+08:00\n",
      "30 旗山區 20 2019-11-28T00:00:00+08:00\n",
      "31 美濃區 21 2019-11-28T00:00:00+08:00\n",
      "32 六龜區 20 2019-11-28T00:00:00+08:00\n",
      "33 甲仙區 19 2019-11-28T00:00:00+08:00\n",
      "34 杉林區 20 2019-11-28T00:00:00+08:00\n",
      "35 內門區 19 2019-11-28T00:00:00+08:00\n",
      "36 茂林區 20 2019-11-28T00:00:00+08:00\n",
      "37 桃源區 18 2019-11-28T00:00:00+08:00\n",
      "38 那瑪夏區 17 2019-11-28T00:00:00+08:00\n"
     ]
    }
   ],
   "source": [
    "# 2. 請取出每一個地區所記錄的第一個時間點跟溫度\n",
    "\n",
    "'''\n",
    "Your Code\n",
    "'''\n",
    "lNo = 0\n",
    "for l in location:\n",
    "    lNo += 1\n",
    "    for w in l[\"weatherElement\"]:\n",
    "        if w[\"description\"] == \"溫度\":\n",
    "            print(lNo, l[\"locationName\"], w[\"time\"][0][\"elementValue\"][\"value\"], w[\"time\"][0][\"dataTime\"])"
   ]
  },
  {
   "cell_type": "code",
   "execution_count": 6,
   "metadata": {},
   "outputs": [
    {
     "name": "stdout",
     "output_type": "stream",
     "text": [
      "1 鹽埕區 22 2019-11-28T00:00:00+08:00\n",
      "1 鹽埕區 21 2019-11-28T03:00:00+08:00\n",
      "1 鹽埕區 20 2019-11-28T06:00:00+08:00\n",
      "1 鹽埕區 23 2019-11-28T09:00:00+08:00\n",
      "1 鹽埕區 27 2019-11-28T12:00:00+08:00\n",
      "1 鹽埕區 27 2019-11-28T15:00:00+08:00\n",
      "1 鹽埕區 24 2019-11-28T18:00:00+08:00\n",
      "1 鹽埕區 23 2019-11-28T21:00:00+08:00\n",
      "1 鹽埕區 21 2019-11-29T00:00:00+08:00\n",
      "1 鹽埕區 20 2019-11-29T03:00:00+08:00\n",
      "1 鹽埕區 19 2019-11-29T06:00:00+08:00\n",
      "1 鹽埕區 21 2019-11-29T09:00:00+08:00\n",
      "1 鹽埕區 24 2019-11-29T12:00:00+08:00\n",
      "1 鹽埕區 25 2019-11-29T15:00:00+08:00\n",
      "1 鹽埕區 23 2019-11-29T18:00:00+08:00\n",
      "1 鹽埕區 22 2019-11-29T21:00:00+08:00\n",
      "1 鹽埕區 21 2019-11-30T00:00:00+08:00\n",
      "1 鹽埕區 21 2019-11-30T03:00:00+08:00\n",
      "1 鹽埕區 20 2019-11-30T06:00:00+08:00\n",
      "1 鹽埕區 22 2019-11-30T09:00:00+08:00\n",
      "1 鹽埕區 26 2019-11-30T12:00:00+08:00\n",
      "1 鹽埕區 26 2019-11-30T15:00:00+08:00\n",
      "1 鹽埕區 24 2019-11-30T18:00:00+08:00\n",
      "1 鹽埕區 23 2019-11-30T21:00:00+08:00\n"
     ]
    }
   ],
   "source": [
    "# 3. 請取出第一個地區所記錄的每一個時間點跟溫度\n",
    "\n",
    "'''\n",
    "Your Code\n",
    "'''\n",
    "lNo = 0\n",
    "for l in location:\n",
    "    lNo += 1\n",
    "    if (lNo > 1):\n",
    "        break\n",
    "    for w in l[\"weatherElement\"]:\n",
    "        if w[\"description\"] == \"溫度\":\n",
    "            for t in w[\"time\"]:\n",
    "                    print(lNo, l[\"locationName\"], t[\"elementValue\"][\"value\"], t[\"dataTime\"])"
   ]
  },
  {
   "cell_type": "code",
   "execution_count": null,
   "metadata": {},
   "outputs": [],
   "source": []
  }
 ],
 "metadata": {
  "kernelspec": {
   "display_name": "Python 3",
   "language": "python",
   "name": "python3"
  },
  "language_info": {
   "codemirror_mode": {
    "name": "ipython",
    "version": 3
   },
   "file_extension": ".py",
   "mimetype": "text/x-python",
   "name": "python",
   "nbconvert_exporter": "python",
   "pygments_lexer": "ipython3",
   "version": "3.7.3"
  }
 },
 "nbformat": 4,
 "nbformat_minor": 2
}
