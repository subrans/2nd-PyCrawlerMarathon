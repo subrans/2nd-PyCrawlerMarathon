{
 "cells": [
  {
   "cell_type": "markdown",
   "metadata": {},
   "source": [
    "# API 資料串接 - 以 Dcard API 實作範例\n",
    "\n",
    "* 了解 Dcard API 使用方式與回傳內容\n",
    "* 撰寫程式存取 API 且解析 JSON 格式資料\n"
   ]
  },
  {
   "cell_type": "markdown",
   "metadata": {},
   "source": [
    "## 作業目標\n",
    "\n",
    "* 請利用 API: https://www.dcard.tw/_api/forums/pet/posts?popular=true 回答下列問題：\n",
    "\n",
    "1. 這個 API 一次會回傳幾筆資料？每一筆資料包含哪些欄位？\n",
    "2. 取出每一筆資料的「標題」、「貼文時間」、「留言人數」、「按讚人數」\n",
    "3. 計算熱門/非熱門文章的「平均留言人數」與「平均按讚人數」"
   ]
  },
  {
   "cell_type": "code",
   "execution_count": 1,
   "metadata": {},
   "outputs": [],
   "source": [
    "import requests\n",
    "r = requests.get('https://www.dcard.tw/_api/forums/pet/posts?popular=true')\n",
    "response = r.text"
   ]
  },
  {
   "cell_type": "markdown",
   "metadata": {},
   "source": [
    "# 1. 這個 API 一次會回傳幾筆資料？每一筆資料包含哪些欄位？"
   ]
  },
  {
   "cell_type": "code",
   "execution_count": 2,
   "metadata": {},
   "outputs": [],
   "source": [
    "import json\n",
    "\n",
    "data = json.loads(response)"
   ]
  },
  {
   "cell_type": "code",
   "execution_count": 3,
   "metadata": {},
   "outputs": [
    {
     "name": "stdout",
     "output_type": "stream",
     "text": [
      "30\n",
      "30\n"
     ]
    }
   ],
   "source": [
    "no = 0\n",
    "for d in data:\n",
    "    if d['title']:\n",
    "        #print(d['title'])\n",
    "        no += 1\n",
    "\n",
    "print(no)\n",
    "print(len(data))"
   ]
  },
  {
   "cell_type": "markdown",
   "metadata": {},
   "source": [
    "## 這個 API 一次會回傳幾筆資料？\n",
    "> ANS: 30"
   ]
  },
  {
   "cell_type": "markdown",
   "metadata": {},
   "source": [
    "### 每一筆資料包含哪些欄位？"
   ]
  },
  {
   "cell_type": "code",
   "execution_count": 4,
   "metadata": {},
   "outputs": [
    {
     "name": "stdout",
     "output_type": "stream",
     "text": [
      "id\n",
      "title\n",
      "excerpt\n",
      "anonymousSchool\n",
      "anonymousDepartment\n",
      "pinned\n",
      "forumId\n",
      "replyId\n",
      "createdAt\n",
      "updatedAt\n",
      "commentCount\n",
      "likeCount\n",
      "withNickname\n",
      "tags\n",
      "topics\n",
      "meta\n",
      "forumName\n",
      "forumAlias\n",
      "gender\n",
      "school\n",
      "replyTitle\n",
      "mediaMeta\n",
      "reactions\n",
      "hidden\n",
      "customStyle\n",
      "isSuspiciousAccount\n",
      "layout\n",
      "withImages\n",
      "withVideos\n",
      "media\n",
      "reportReasonText\n",
      "postAvatar\n"
     ]
    }
   ],
   "source": [
    "for d in data[0]:\n",
    "    print(d)"
   ]
  },
  {
   "cell_type": "markdown",
   "metadata": {},
   "source": [
    "# 2. 取出每一筆資料的「標題」、「貼文時間」、「留言人數」、「按讚人數」"
   ]
  },
  {
   "cell_type": "markdown",
   "metadata": {},
   "source": [
    "### 取出每一筆資料的「標題」"
   ]
  },
  {
   "cell_type": "code",
   "execution_count": 5,
   "metadata": {},
   "outputs": [
    {
     "name": "stdout",
     "output_type": "stream",
     "text": [
      "更）複製柴？！\n",
      "我真的幫狗做過證件照\n",
      "小柯基\n",
      "我要成為養貓大師！\n",
      "急尋‼️愛犬台灣土狗走失‼️\n",
      "求正面！\n",
      "橘子心情篇\n",
      "大叔魂上身的貓\n",
      "養了寵物後就變成神經病了\n",
      "判若兩狗ಠ_ಠ\n",
      "過年懶到廢的吉娃娃\n",
      "#狗狗協尋 #高雄\n",
      "送養文 宇宙\n",
      "歐藤的鼠吉頭套🥰🥰\n",
      "難道大狗就會咬人嗎？\n",
      "尋貓\n",
      "Dcard 限時的貓貓！\n",
      "今天六度，我家的狗度估\n",
      "尋貓啟事\n",
      "肥貓減肥突破\n",
      "鼠鼠的迷宮挑戰\n",
      "屏東市棄養幼犬找愛心\n",
      "貓語求解\n",
      "老家後院的超萌小貓٩(˃̶͈̀௰˂̶͈́)و\n",
      "扶桑花🌺女孩\n",
      "（片長）送養文-新竹\n",
      "寵物遺失 新北樹林\n",
      "飛天兔兔\n",
      "流浪貓貓睡在我家車頂\n",
      "中年海參的日常\n"
     ]
    }
   ],
   "source": [
    "for d in data:\n",
    "    print(d['title'])"
   ]
  },
  {
   "cell_type": "markdown",
   "metadata": {},
   "source": [
    "### 取出每一筆資料的「貼文時間」"
   ]
  },
  {
   "cell_type": "code",
   "execution_count": 6,
   "metadata": {},
   "outputs": [
    {
     "name": "stdout",
     "output_type": "stream",
     "text": [
      "2020-01-29T04:40:14.857Z\n",
      "2020-01-29T15:25:04.274Z\n",
      "2020-01-29T08:14:20.729Z\n",
      "2020-01-30T02:07:50.858Z\n",
      "2020-01-29T16:17:02.248Z\n",
      "2020-01-29T07:08:02.299Z\n",
      "2020-01-30T02:11:16.070Z\n",
      "2020-01-29T16:50:36.477Z\n",
      "2020-01-29T14:38:31.576Z\n",
      "2020-01-29T08:24:25.283Z\n",
      "2020-01-29T12:03:08.323Z\n",
      "2020-01-29T01:53:09.895Z\n",
      "2020-01-29T17:32:02.181Z\n",
      "2020-01-30T04:40:35.222Z\n",
      "2020-01-29T14:37:58.874Z\n",
      "2020-01-29T05:27:41.589Z\n",
      "2020-01-29T13:48:46.218Z\n",
      "2020-01-30T08:33:55.240Z\n",
      "2020-01-30T05:53:50.458Z\n",
      "2020-01-29T18:01:56.778Z\n",
      "2020-01-30T09:49:13.587Z\n",
      "2020-01-29T12:20:59.326Z\n",
      "2020-01-29T09:15:03.224Z\n",
      "2020-01-30T05:43:50.515Z\n",
      "2020-01-29T14:26:37.169Z\n",
      "2020-01-29T04:57:19.279Z\n",
      "2020-01-30T10:49:59.230Z\n",
      "2020-01-30T10:30:39.785Z\n",
      "2020-01-30T02:28:34.922Z\n",
      "2020-01-29T17:46:27.091Z\n"
     ]
    }
   ],
   "source": [
    "for d in data:\n",
    "    print(d['createdAt'])"
   ]
  },
  {
   "cell_type": "markdown",
   "metadata": {},
   "source": [
    "### 取出每一筆資料的「留言人數」"
   ]
  },
  {
   "cell_type": "code",
   "execution_count": 7,
   "metadata": {},
   "outputs": [
    {
     "name": "stdout",
     "output_type": "stream",
     "text": [
      "15\n",
      "15\n",
      "2\n",
      "12\n",
      "0\n",
      "3\n",
      "0\n",
      "2\n",
      "7\n",
      "0\n",
      "3\n",
      "1\n",
      "1\n",
      "5\n",
      "2\n",
      "2\n",
      "3\n",
      "0\n",
      "0\n",
      "6\n",
      "0\n",
      "0\n",
      "1\n",
      "1\n",
      "2\n",
      "2\n",
      "2\n",
      "0\n",
      "1\n",
      "0\n"
     ]
    }
   ],
   "source": [
    "for d in data:\n",
    "    print(d['commentCount'])"
   ]
  },
  {
   "cell_type": "markdown",
   "metadata": {},
   "source": [
    "### 取出每一筆資料的「按讚人數」"
   ]
  },
  {
   "cell_type": "code",
   "execution_count": 8,
   "metadata": {},
   "outputs": [
    {
     "name": "stdout",
     "output_type": "stream",
     "text": [
      "824\n",
      "144\n",
      "48\n",
      "46\n",
      "25\n",
      "22\n",
      "21\n",
      "21\n",
      "21\n",
      "21\n",
      "16\n",
      "16\n",
      "14\n",
      "13\n",
      "13\n",
      "13\n",
      "11\n",
      "10\n",
      "10\n",
      "9\n",
      "7\n",
      "7\n",
      "7\n",
      "6\n",
      "6\n",
      "6\n",
      "4\n",
      "4\n",
      "3\n",
      "3\n"
     ]
    }
   ],
   "source": [
    "for d in data:\n",
    "    print(d['likeCount'])"
   ]
  },
  {
   "cell_type": "markdown",
   "metadata": {},
   "source": [
    "# 3. 計算熱門/非熱門文章的「平均留言人數」與「平均按讚人數」"
   ]
  },
  {
   "cell_type": "code",
   "execution_count": 9,
   "metadata": {},
   "outputs": [],
   "source": [
    "pop = json.loads(requests.get('https://www.dcard.tw/_api/forums/pet/posts?popular=true').text)\n",
    "unpop = json.loads(requests.get('https://www.dcard.tw/_api/forums/pet/posts?popular=false').text)"
   ]
  },
  {
   "cell_type": "markdown",
   "metadata": {},
   "source": [
    "### 計算`熱門文章`的「平均留言人數」與「平均按讚人數」"
   ]
  },
  {
   "cell_type": "code",
   "execution_count": 10,
   "metadata": {},
   "outputs": [],
   "source": [
    "p_no = len(pop)\n",
    "p_like = 0\n",
    "p_cmt = 0\n",
    "for d in pop:\n",
    "    #print(d['likeCount'], d['commentCount'])\n",
    "    p_like = p_like + d['likeCount']\n",
    "    p_cmt = p_cmt + d['commentCount']\n",
    "\n",
    "p_l_avg = p_like/p_no\n",
    "p_c_avg = p_cmt/p_no"
   ]
  },
  {
   "cell_type": "markdown",
   "metadata": {},
   "source": [
    "### 計算`非熱門文章`的「平均留言人數」與「平均按讚人數」"
   ]
  },
  {
   "cell_type": "code",
   "execution_count": 11,
   "metadata": {},
   "outputs": [],
   "source": [
    "up_no = len(unpop)\n",
    "up_like = 0\n",
    "up_cmt = 0\n",
    "for d in unpop:\n",
    "    up_like = up_like + d['likeCount']\n",
    "    up_cmt = up_cmt + d['commentCount']\n",
    "\n",
    "u_l_avg = up_like/up_no\n",
    "u_c_avg = up_cmt/up_no"
   ]
  },
  {
   "cell_type": "code",
   "execution_count": 12,
   "metadata": {},
   "outputs": [
    {
     "name": "stdout",
     "output_type": "stream",
     "text": [
      "Popular: like_avg= 45.7 , comment_avg= 2.933333333333333\n",
      "Normal: like_avg= 12.733333333333333 , commnet_avg= 2.1666666666666665\n"
     ]
    }
   ],
   "source": [
    "print(\"Popular: like_avg=\", p_l_avg, \", comment_avg=\", p_c_avg)\n",
    "print(\"Normal: like_avg=\", u_l_avg, \", commnet_avg=\", u_c_avg)"
   ]
  },
  {
   "cell_type": "code",
   "execution_count": null,
   "metadata": {},
   "outputs": [],
   "source": []
  }
 ],
 "metadata": {
  "kernelspec": {
   "display_name": "Python 3",
   "language": "python",
   "name": "python3"
  },
  "language_info": {
   "codemirror_mode": {
    "name": "ipython",
    "version": 3
   },
   "file_extension": ".py",
   "mimetype": "text/x-python",
   "name": "python",
   "nbconvert_exporter": "python",
   "pygments_lexer": "ipython3",
   "version": "3.7.3"
  }
 },
 "nbformat": 4,
 "nbformat_minor": 2
}
