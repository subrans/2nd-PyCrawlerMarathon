{
 "cells": [
  {
   "cell_type": "markdown",
   "metadata": {},
   "source": [
    "# API 資料串接 - 以 知乎 API 實作範例\n",
    "\n",
    "\n",
    "\n",
    "* 了解知乎 API 使用方式與回傳內容\n",
    "* 撰寫程式存取 API 且添加標頭\n",
    "\n",
    "\n"
   ]
  },
  {
   "cell_type": "markdown",
   "metadata": {},
   "source": [
    "## 作業目標\n",
    "\n",
    "* 根據範例提供的 API ，完成以下問題：\n",
    "\n",
    "    1. 取出知乎問題發問時間\n",
    "    2. 取出第一筆與最後一筆回答的時間\n"
   ]
  },
  {
   "cell_type": "markdown",
   "metadata": {},
   "source": [
    "### 1. 取出知乎問題發問時間"
   ]
  },
  {
   "cell_type": "code",
   "execution_count": 2,
   "metadata": {},
   "outputs": [
    {
     "name": "stdout",
     "output_type": "stream",
     "text": [
      "1 id= 637938925 , created= 1486390229  :  2017-02-06 22:10:29\n",
      "2 id= 683070334 , created= 1486390229  :  2017-02-06 22:10:29\n",
      "3 id= 163537026 , created= 1486390229  :  2017-02-06 22:10:29\n",
      "4 id= 873825546 , created= 1486390229  :  2017-02-06 22:10:29\n",
      "5 id= 609522449 , created= 1486390229  :  2017-02-06 22:10:29\n"
     ]
    }
   ],
   "source": [
    "# 1. 取出知乎問題發問時間\n",
    "\n",
    "'''\n",
    "Your Code\n",
    "'''\n",
    "import requests\n",
    "import json\n",
    "from datetime import datetime\n",
    "\n",
    "headers = {'user-agent': 'Mozilla/5.0 (Windows NT 6.1; Win64; x64) AppleWebKit/537.36 (KHTML, like Gecko) Chrome/80.0.3987.132 Safari/537.36'}\n",
    "r = requests.get('https://www.zhihu.com/api/v4/questions/55493026/answers', headers=headers)\n",
    "response = r.text\n",
    "#print(response)\n",
    "\n",
    "data = json.loads(response)\n",
    "i=1\n",
    "#for k in data:\n",
    "#    print(k)\n",
    "    \n",
    "#print(type(data['data']))\n",
    "#for d in data['paging']:\n",
    "#    print(i, d)\n",
    "#    i +=1\n",
    "\n",
    "i=1\n",
    "for d in data['data']:\n",
    "    #print(i, d)\n",
    "    print(i, 'id=', d['id'],', created=' ,d['question']['created'] ,' : ' ,datetime.fromtimestamp(d['question']['created']))\n",
    "    i +=1"
   ]
  },
  {
   "cell_type": "markdown",
   "metadata": {},
   "source": [
    "### 2. 取出第一筆與最後一筆回答的時間"
   ]
  },
  {
   "cell_type": "code",
   "execution_count": 3,
   "metadata": {},
   "outputs": [
    {
     "name": "stdout",
     "output_type": "stream",
     "text": [
      "   1st - updated_time: 2019-04-01 10:17:08\n",
      "latest - updated_time: 2019-02-27 11:41:25\n"
     ]
    }
   ],
   "source": [
    "# 2. 取出第一筆與最後一筆回答的時間\n",
    "\n",
    "'''\n",
    "Your Code\n",
    "'''\n",
    "#補充: Timestamp 轉成 時間\n",
    "from datetime import datetime\n",
    "\n",
    "print('   1st - updated_time:', datetime.fromtimestamp(data['data'][0]['created_time']))\n",
    "\n",
    "latest_index = 0\n",
    "for row in data['data']:\n",
    "    if row['created_time'] > latest_index:\n",
    "        latest_answer_time = row['created_time']\n",
    "print('latest - updated_time:', datetime.fromtimestamp(latest_answer_time))"
   ]
  },
  {
   "cell_type": "code",
   "execution_count": null,
   "metadata": {
    "collapsed": true
   },
   "outputs": [],
   "source": []
  }
 ],
 "metadata": {
  "kernelspec": {
   "display_name": "Python 3",
   "language": "python",
   "name": "python3"
  }
 },
 "nbformat": 4,
 "nbformat_minor": 2
}
