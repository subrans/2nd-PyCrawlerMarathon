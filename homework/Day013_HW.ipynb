{
 "cells": [
  {
   "cell_type": "markdown",
   "metadata": {},
   "source": [
    "# PTT 網路爬蟲實作練習\n",
    "\n",
    "\n",
    "* 能夠利用 Request + BeatifulSour 撰寫爬蟲，並存放到合適的資料結構\n"
   ]
  },
  {
   "cell_type": "markdown",
   "metadata": {},
   "source": [
    "## 作業目標\n",
    "\n",
    "根據範例 ，完成以下問題：\n",
    "\n",
    "* ① 印出最新文章的「作者」「標題」「時間」\n",
    "* ② 印出第一頁所有文章的「作者」「標題」「時間」\n"
   ]
  },
  {
   "cell_type": "markdown",
   "metadata": {},
   "source": [
    "### ① 印出最新文章的「作者」「標題」「時間」"
   ]
  },
  {
   "cell_type": "code",
   "execution_count": 7,
   "metadata": {},
   "outputs": [
    {
     "name": "stdout",
     "output_type": "stream",
     "text": [
      " 3/10 , author:  playstore , title:  Re: [情報] 湖人助教：LBJ在昨日賽前主動表示他要防\n"
     ]
    }
   ],
   "source": [
    "'''\n",
    "Your Code\n",
    "'''\n",
    "import requests\n",
    "from bs4 import BeautifulSoup\n",
    "\n",
    "url = 'https://www.ptt.cc/bbs/NBA/index.html'\n",
    "r = requests.get(url)\n",
    "\n",
    "soup = BeautifulSoup(r.text, 'html5lib')\n",
    "\n",
    "if(soup.find_all(class_='r-ent')[0].find(class_='title') != None):\n",
    "    title = soup.find_all(class_='r-ent')[0].find(class_='title').text.replace('\\t', '').replace('\\n', '')\n",
    "else:\n",
    "    title = 'None'\n",
    "    \n",
    "if(soup.find_all(class_='r-ent')[0].find(class_='date') != None):\n",
    "    date = soup.find_all(class_='r-ent')[0].find(class_='date').text.replace('\\t', '').replace('\\n', '')\n",
    "else:\n",
    "    date = 'None'\n",
    "    \n",
    "if(soup.find_all(class_='r-ent')[0].find(class_='author') != None):\n",
    "    author = soup.find_all(class_='r-ent')[0].find(class_='author').text.replace('\\t', '').replace('\\n', '')\n",
    "else:\n",
    "    author = 'None'\n",
    "    \n",
    "print(date, ', author: ' ,author,', title: ' ,title)"
   ]
  },
  {
   "cell_type": "markdown",
   "metadata": {},
   "source": [
    "### ② 印出第一頁所有文章的「作者」「標題」「時間」"
   ]
  },
  {
   "cell_type": "code",
   "execution_count": 8,
   "metadata": {},
   "outputs": [
    {
     "name": "stdout",
     "output_type": "stream",
     "text": [
      " 3/10 , author:  playstore , title:  Re: [情報] 湖人助教：LBJ在昨日賽前主動表示他要防\n",
      " 3/10 , author:  - , title:  (本文已被刪除) [KDSKY]\n",
      " 3/10 , author:  namie810303 , title:  [公告]水桶 \n",
      " 3/10 , author:  phoenix286 , title:  [情報] Norman Powell 左踝扭傷\n",
      " 3/10 , author:  hide0325 , title:  [新聞] 快艇補強內線 10天短約簽諾亞\n",
      " 3/10 , author:  sammyegg , title:  Re: [討論] Curry是不是現今有成就也不被認可的球員?\n",
      " 3/10 , author:  thnlkj0665 , title:  [花邊] 柯瑞復出也難擋 勇士再被取消兩場全美直播\n",
      " 3/10 , author:  - , title:  (已被namie810303刪除) <leolu2013>1-1\n",
      " 3/10 , author:  iammatrix , title:  Re: [情報] Trae Young 史上最快投進350顆三分球\n",
      " 3/10 , author:  jk182325 , title:  [新聞] 聯盟防疫措施反應兩極　球星：有人咳嗽\n",
      " 3/10 , author:  KnightZX , title:  [專欄] 數據不會說謊！盤點NBA防守最爛先發五虎\n",
      " 5/24 , author:  Vedan , title:  [公告] 板規v6.8\n",
      "10/25 , author:  qazwsx879345 , title:  [公告] 版主上任相關事項 \n",
      " 3/02 , author:  Acetoxy , title:  [情報] SEASON Schedule 賽程 March 19–20\n",
      " 3/04 , author:  Vedan , title:  Fw: [公告] 即日起開放 NTU 信箱註冊帳號\n",
      " 3/09 , author:  Vedan , title:  [公告] 第一次被退文，可在三天後刪除退文\n"
     ]
    }
   ],
   "source": [
    "'''\n",
    "Your Code\n",
    "'''\n",
    "import requests\n",
    "from bs4 import BeautifulSoup\n",
    "\n",
    "url = 'https://www.ptt.cc/bbs/NBA/index.html'\n",
    "r = requests.get(url)\n",
    "\n",
    "soup = BeautifulSoup(r.text, 'html5lib')\n",
    "for d in soup.find_all(class_='r-ent'):\n",
    "    #print(d.text)\n",
    "    #print(d.text.replace('\\t', '').replace('\\n', ''))\n",
    "    title = d.find(class_='title').text.replace('\\t', '').replace('\\n', '')\n",
    "    author = d.find(class_='author').text.replace('\\t', '').replace('\\n', '')\n",
    "    date = d.find(class_='date').text.replace('\\t', '').replace('\\n', '')\n",
    "    print(date, ', author: ' ,author,', title: ' ,title)"
   ]
  },
  {
   "cell_type": "markdown",
   "metadata": {},
   "source": [
    "### ③ 試著爬爬看其他版的文章"
   ]
  },
  {
   "cell_type": "code",
   "execution_count": 9,
   "metadata": {},
   "outputs": [
    {
     "name": "stdout",
     "output_type": "stream",
     "text": [
      "<div class=\"bbs-screen bbs-content\" id=\"main-content\"><div class=\"article-metaline\"><span class=\"article-meta-tag\">作者</span><span class=\"article-meta-value\">hide0325 (hide)</span></div><div class=\"article-metaline-right\"><span class=\"article-meta-tag\">看板</span><span class=\"article-meta-value\">NBA</span></div><div class=\"article-metaline\"><span class=\"article-meta-tag\">標題</span><span class=\"article-meta-value\">[新聞] 快艇補強內線 10天短約簽諾亞</span></div><div class=\"article-metaline\"><span class=\"article-meta-tag\">時間</span><span class=\"article-meta-value\">Tue Mar 10 13:20:43 2020</span></div>\n",
      "快艇補強內線 10天短約簽諾亞\n",
      "\n",
      "2020-03-10 10:16聯合報 / 記者曾思儒／即時報導\n",
      "\n",
      "剛在「洛城內戰」吞敗，快艇隊今天（10號）馬上宣布補強，確定和老將諾亞（Joakim N\n",
      "oah）簽下10天短約，盼借重經驗值，讓球隊有更好的化學變化。快艇昨天敗給湖人隊後\n",
      "，教頭瑞佛斯（Doc Rivers）就開玩笑說，他無法透露球隊打算簽下的神秘人物，不過諾\n",
      "亞名字早就被提及過，快艇球團今天也正式迎接35歲老將加入。\n",
      "\n",
      "快艇總裁法蘭克（Lawrence Frank）形容說，諾亞是不屈不撓的競爭者，也是公認的贏家\n",
      "，「他的經驗、敏銳度和韌性，會和我們在休息室融合得很好」。祖巴茲（Ivica Zubac\n",
      "）是快艇的固定先發內線，年度第六人候選人哈瑞爾（Montrezl Harrell）從板凳上也有\n",
      "場均18.7分、7.1籃板貢獻，諾亞的加入為快艇板凳區提升深度。\n",
      "\n",
      "上月底剛過35歲的諾亞，曾兩度入選明星賽，2014年還摘下年度最佳防守球員；他在NBA\n",
      "前9個賽季都效力公牛隊，之後轉戰紐約兩年，本季是從灰熊隊出發，泰半時間以替補出\n",
      "賽的他，場均有7.1分。諾亞在灰熊場均上場時間為16.5分鐘，快艇預期不需要諾亞同樣\n",
      "的上場時間；若是諾亞和新團隊磨合順利，再獲得另一個10天短約也是可能走向。\n",
      "\n",
      "<a href=\"https://reurl.cc/R44n8Z\" rel=\"nofollow\" target=\"_blank\">https://reurl.cc/R44n8Z</a>\n",
      "\n",
      "\n",
      "--\n",
      "<span class=\"f2\">※ 發信站: 批踢踢實業坊(ptt.cc), 來自: 39.13.162.171 (臺灣)\n",
      "</span><span class=\"f2\">※ 文章網址: <a href=\"https://www.ptt.cc/bbs/NBA/M.1583817645.A.A98.html\" rel=\"nofollow\" target=\"_blank\">https://www.ptt.cc/bbs/NBA/M.1583817645.A.A98.html</a>\n",
      "</span><div class=\"push\"><span class=\"hl push-tag\">推 </span><span class=\"f3 hl push-userid\">k385476916  </span><span class=\"f3 push-content\">: 鑽石艇</span><span class=\"push-ipdatetime\"> 03/10 13:21\n",
      "</span></div><div class=\"push\"><span class=\"hl push-tag\">推 </span><span class=\"f3 hl push-userid\">fibula      </span><span class=\"f3 push-content\">: 不知道還剩幾成功力</span><span class=\"push-ipdatetime\"> 03/10 13:21\n",
      "</span></div><div class=\"push\"><span class=\"hl push-tag\">推 </span><span class=\"f3 hl push-userid\">OPPAISuki   </span><span class=\"f3 push-content\">: 諾亞方舟!</span><span class=\"push-ipdatetime\"> 03/10 13:22\n",
      "</span></div><div class=\"push\"><span class=\"hl push-tag\">推 </span><span class=\"f3 hl push-userid\">bpupil      </span><span class=\"f3 push-content\">: 這種久沒打的，通常都 soso</span><span class=\"push-ipdatetime\"> 03/10 13:22\n",
      "</span></div><div class=\"push\"><span class=\"hl push-tag\">推 </span><span class=\"f3 hl push-userid\">zombierick  </span><span class=\"f3 push-content\">: 我全都要</span><span class=\"push-ipdatetime\"> 03/10 13:22\n",
      "</span></div><div class=\"push\"><span class=\"f1 hl push-tag\">→ </span><span class=\"f3 hl push-userid\">P69045      </span><span class=\"f3 push-content\">: 各種補強</span><span class=\"push-ipdatetime\"> 03/10 13:23\n",
      "</span></div><div class=\"push\"><span class=\"hl push-tag\">推 </span><span class=\"f3 hl push-userid\">hau7341     </span><span class=\"f3 push-content\">: 十天...先試用一下的意思...</span><span class=\"push-ipdatetime\"> 03/10 13:26\n",
      "</span></div><div class=\"push\"><span class=\"f1 hl push-tag\">→ </span><span class=\"f3 hl push-userid\">higger      </span><span class=\"f3 push-content\">: 10天約是能拿多少錢？</span><span class=\"push-ipdatetime\"> 03/10 13:30\n",
      "</span></div><div class=\"push\"><span class=\"hl push-tag\">推 </span><span class=\"f3 hl push-userid\">aa89028500  </span><span class=\"f3 push-content\">: 反詹大將軍歸位!</span><span class=\"push-ipdatetime\"> 03/10 13:31\n",
      "</span></div><div class=\"push\"><span class=\"hl push-tag\">推 </span><span class=\"f3 hl push-userid\">bcqqa7785   </span><span class=\"f3 push-content\">: 鑽石公主號!!</span><span class=\"push-ipdatetime\"> 03/10 13:32\n",
      "</span></div><div class=\"push\"><span class=\"hl push-tag\">推 </span><span class=\"f3 hl push-userid\">msdie911545 </span><span class=\"f3 push-content\">: 至尊鑽石公主真-諾亞方舟艇</span><span class=\"push-ipdatetime\"> 03/10 13:32\n",
      "</span></div><div class=\"push\"><span class=\"hl push-tag\">推 </span><span class=\"f3 hl push-userid\">chenghow    </span><span class=\"f3 push-content\">: 還是當心靈導師</span><span class=\"push-ipdatetime\"> 03/10 13:33\n",
      "</span></div><div class=\"push\"><span class=\"hl push-tag\">推 </span><span class=\"f3 hl push-userid\">RazaviSmith </span><span class=\"f3 push-content\">: 真的補強完畢想不到快艇會怎麼輸....</span><span class=\"push-ipdatetime\"> 03/10 13:33\n",
      "</span></div><div class=\"push\"><span class=\"hl push-tag\">推 </span><span class=\"f3 hl push-userid\">ldr521      </span><span class=\"f3 push-content\">: 不看好</span><span class=\"push-ipdatetime\"> 03/10 13:34\n",
      "</span></div><div class=\"push\"><span class=\"f1 hl push-tag\">噓 </span><span class=\"f3 hl push-userid\">king04569   </span><span class=\"f3 push-content\">: 這隻2k難用</span><span class=\"push-ipdatetime\"> 03/10 13:35\n",
      "</span></div><div class=\"push\"><span class=\"hl push-tag\">推 </span><span class=\"f3 hl push-userid\">Y1999       </span><span class=\"f3 push-content\">: 真‧諾亞方舟</span><span class=\"push-ipdatetime\"> 03/10 13:35\n",
      "</span></div><div class=\"push\"><span class=\"hl push-tag\">推 </span><span class=\"f3 hl push-userid\">Xenogamer   </span><span class=\"f3 push-content\">: 這隻退化很久了</span><span class=\"push-ipdatetime\"> 03/10 13:37\n",
      "</span></div><div class=\"push\"><span class=\"hl push-tag\">推 </span><span class=\"f3 hl push-userid\">hn11        </span><span class=\"f3 push-content\">: 船長來掌舵了..</span><span class=\"push-ipdatetime\"> 03/10 13:37\n",
      "</span></div><div class=\"push\"><span class=\"f1 hl push-tag\">→ </span><span class=\"f3 hl push-userid\">Xenogamer   </span><span class=\"f3 push-content\">: 剩嘴巴沒退化</span><span class=\"push-ipdatetime\"> 03/10 13:37\n",
      "</span></div><div class=\"push\"><span class=\"hl push-tag\">推 </span><span class=\"f3 hl push-userid\">paradoxQ    </span><span class=\"f3 push-content\">: 至尊艇！</span><span class=\"push-ipdatetime\"> 03/10 13:39\n",
      "</span></div><div class=\"push\"><span class=\"hl push-tag\">推 </span><span class=\"f3 hl push-userid\">JasonIm     </span><span class=\"f3 push-content\">: 反詹大將軍集結</span><span class=\"push-ipdatetime\"> 03/10 13:39\n",
      "</span></div><div class=\"push\"><span class=\"hl push-tag\">推 </span><span class=\"f3 hl push-userid\">jack34031   </span><span class=\"f3 push-content\">: 打勇士第四節有機會上場</span><span class=\"push-ipdatetime\"> 03/10 13:39\n",
      "</span></div><div class=\"push\"><span class=\"hl push-tag\">推 </span><span class=\"f3 hl push-userid\">Toy17       </span><span class=\"f3 push-content\">: 反詹大將軍坐鎮板凳</span><span class=\"push-ipdatetime\"> 03/10 13:41\n",
      "</span></div><div class=\"push\"><span class=\"hl push-tag\">推 </span><span class=\"f3 hl push-userid\">sd09090     </span><span class=\"f3 push-content\">: 就替補沒貢獻，又被湖人對著弱點打，</span><span class=\"push-ipdatetime\"> 03/10 13:42\n",
      "</span></div><div class=\"push\"><span class=\"hl push-tag\">推 </span><span class=\"f3 hl push-userid\">a3221715    </span><span class=\"f3 push-content\">: 諾亞方舟 啟航</span><span class=\"push-ipdatetime\"> 03/10 13:42\n",
      "</span></div><div class=\"push\"><span class=\"hl push-tag\">推 </span><span class=\"f3 hl push-userid\">pounil      </span><span class=\"f3 push-content\">: 又一個前明星上船了  可怕  服務生沒有星可惜了</span><span class=\"push-ipdatetime\"> 03/10 13:48\n",
      "</span></div><div class=\"push\"><span class=\"f1 hl push-tag\">→ </span><span class=\"f3 hl push-userid\">pounil      </span><span class=\"f3 push-content\">: 不然你補一個 我也補一個 有話題炒啊</span><span class=\"push-ipdatetime\"> 03/10 13:49\n",
      "</span></div><div class=\"push\"><span class=\"hl push-tag\">推 </span><span class=\"f3 hl push-userid\">manuginobii </span><span class=\"f3 push-content\">: 曾經進明星賽：快艇3個 湖人4個 此局湖人勝出</span><span class=\"push-ipdatetime\"> 03/10 13:51\n",
      "</span></div><div class=\"push\"><span class=\"hl push-tag\">推 </span><span class=\"f3 hl push-userid\">b8454       </span><span class=\"f3 push-content\">: 反詹連線</span><span class=\"push-ipdatetime\"> 03/10 13:56\n",
      "</span></div><div class=\"push\"><span class=\"f1 hl push-tag\">→ </span><span class=\"f3 hl push-userid\">pigmai5207  </span><span class=\"f3 push-content\">: 反詹將軍集結！！</span><span class=\"push-ipdatetime\"> 03/10 14:07\n",
      "</span></div><div class=\"push\"><span class=\"hl push-tag\">推 </span><span class=\"f3 hl push-userid\">cloudinair  </span><span class=\"f3 push-content\">: Noah+Fun guy+George</span><span class=\"push-ipdatetime\"> 03/10 14:14\n",
      "</span></div><div class=\"push\"><span class=\"f1 hl push-tag\">→ </span><span class=\"f3 hl push-userid\">MarsCrp1    </span><span class=\"f3 push-content\">: 反詹大將軍！！</span><span class=\"push-ipdatetime\"> 03/10 14:20\n",
      "</span></div><div class=\"push\"><span class=\"hl push-tag\">推 </span><span class=\"f3 hl push-userid\">garbee7994  </span><span class=\"f3 push-content\">: Joking 諾亞？</span><span class=\"push-ipdatetime\"> 03/10 14:23\n",
      "</span></div><div class=\"push\"><span class=\"hl push-tag\">推 </span><span class=\"f3 hl push-userid\">terryate    </span><span class=\"f3 push-content\">: 真正的3旬老漢在這啦</span><span class=\"push-ipdatetime\"> 03/10 14:24\n",
      "</span></div><div class=\"push\"><span class=\"hl push-tag\">推 </span><span class=\"f3 hl push-userid\">acac6655    </span><span class=\"f3 push-content\">: 這次淹水只淹10天嗎諾亞方舟10天而已？</span><span class=\"push-ipdatetime\"> 03/10 14:25\n",
      "</span></div><div class=\"push\"><span class=\"hl push-tag\">推 </span><span class=\"f3 hl push-userid\">hhoo32      </span><span class=\"f3 push-content\">: 6場定生死</span><span class=\"push-ipdatetime\"> 03/10 14:27\n",
      "</span></div><div class=\"push\"><span class=\"hl push-tag\">推 </span><span class=\"f3 hl push-userid\">powerful1114</span><span class=\"f3 push-content\">: 諾亞方舟(X)諾亞方蓋(O)</span><span class=\"push-ipdatetime\"> 03/10 14:30\n",
      "</span></div><div class=\"push\"><span class=\"f1 hl push-tag\">→ </span><span class=\"f3 hl push-userid\">aimlikenoob </span><span class=\"f3 push-content\">: 反詹大將軍，地鐵大戰精彩可期</span><span class=\"push-ipdatetime\"> 03/10 14:46\n",
      "</span></div><div class=\"push\"><span class=\"hl push-tag\">推 </span><span class=\"f3 hl push-userid\">giantkobe   </span><span class=\"f3 push-content\">: 想不到快艇怎麼輸</span><span class=\"push-ipdatetime\"> 03/10 14:55\n",
      "</span></div><div class=\"push\"><span class=\"hl push-tag\">推 </span><span class=\"f3 hl push-userid\">dgq75148    </span><span class=\"f3 push-content\">: 全員健康戰績要重算嗎？</span><span class=\"push-ipdatetime\"> 03/10 14:57\n",
      "</span></div><div class=\"push\"><span class=\"f1 hl push-tag\">→ </span><span class=\"f3 hl push-userid\">william7711 </span><span class=\"f3 push-content\">: 10天.....</span><span class=\"push-ipdatetime\"> 03/10 15:07\n",
      "</span></div><div class=\"push\"><span class=\"f1 hl push-tag\">→ </span><span class=\"f3 hl push-userid\">shwkz       </span><span class=\"f3 push-content\">: 又補強了 湖人不能大意...</span><span class=\"push-ipdatetime\"> 03/10 15:08\n",
      "</span></div><div class=\"push\"><span class=\"hl push-tag\">推 </span><span class=\"f3 hl push-userid\">accjm2440   </span><span class=\"f3 push-content\">: 鑽石公主艇</span><span class=\"push-ipdatetime\"> 03/10 15:34\n",
      "</span></div><div class=\"push\"><span class=\"hl push-tag\">推 </span><span class=\"f3 hl push-userid\">shadya1227  </span><span class=\"f3 push-content\">: 天空貝挑釁無效 再加一隻反詹大將軍來挑釁嗎</span><span class=\"push-ipdatetime\"> 03/10 15:56\n",
      "</span></div><div class=\"push\"><span class=\"hl push-tag\">推 </span><span class=\"f3 hl push-userid\">peterw      </span><span class=\"f3 push-content\">: 登船了？</span><span class=\"push-ipdatetime\"> 03/10 15:56\n",
      "</span></div><div class=\"push\"><span class=\"hl push-tag\">推 </span><span class=\"f3 hl push-userid\">ChildX      </span><span class=\"f3 push-content\">: 怕</span><span class=\"push-ipdatetime\"> 03/10 16:06\n",
      "</span></div><div class=\"push\"><span class=\"hl push-tag\">推 </span><span class=\"f3 hl push-userid\">sasewill    </span><span class=\"f3 push-content\">: 該把舞王簽來湊個反詹大聯盟了</span><span class=\"push-ipdatetime\"> 03/10 16:08\n",
      "</span></div><div class=\"push\"><span class=\"hl push-tag\">推 </span><span class=\"f3 hl push-userid\">chink5566   </span><span class=\"f3 push-content\">: 什麼地鐵大戰 根本就同一個球場還要搭地鐵喔</span><span class=\"push-ipdatetime\"> 03/10 16:10\n",
      "</span></div><div class=\"push\"><span class=\"f1 hl push-tag\">→ </span><span class=\"f3 hl push-userid\">chink5566   </span><span class=\"f3 push-content\">: 你以為MLB喔</span><span class=\"push-ipdatetime\"> 03/10 16:10\n",
      "</span></div><div class=\"push\"><span class=\"hl push-tag\">推 </span><span class=\"f3 hl push-userid\">XXXXXXXXXL  </span><span class=\"f3 push-content\">: 全員到齊囉 航向宇宙</span><span class=\"push-ipdatetime\"> 03/10 16:11\n",
      "</span></div></div>\n"
     ]
    }
   ],
   "source": [
    "'''\n",
    "Your Code\n",
    "'''\n",
    "import requests\n",
    "from bs4 import BeautifulSoup\n",
    "\n",
    "url = 'https://www.ptt.cc/bbs/NBA/index.html'\n",
    "r = requests.get(url)\n",
    "\n",
    "soup = BeautifulSoup(r.text, 'html5lib')\n",
    "href = []\n",
    "for d in soup.find_all(class_='r-ent'):\n",
    "    if(d.find('a') != None):\n",
    "        href.append(d.find('a')['href'])\n",
    "\n",
    "r2 = requests.get('https://www.ptt.cc' + href[3])\n",
    "soup2 = BeautifulSoup(r2.text, 'html5lib')\n",
    "for d in soup2.find_all(class_='bbs-screen bbs-content'):\n",
    "    print(d)"
   ]
  },
  {
   "cell_type": "code",
   "execution_count": null,
   "metadata": {
    "collapsed": true
   },
   "outputs": [],
   "source": []
  }
 ],
 "metadata": {
  "kernelspec": {
   "display_name": "Python 3",
   "language": "python",
   "name": "python3"
  },
  "language_info": {
   "codemirror_mode": {
    "name": "ipython",
    "version": 3
   },
   "file_extension": ".py",
   "mimetype": "text/x-python",
   "name": "python",
   "nbconvert_exporter": "python",
   "pygments_lexer": "ipython3",
   "version": "3.6.6"
  }
 },
 "nbformat": 4,
 "nbformat_minor": 2
}
