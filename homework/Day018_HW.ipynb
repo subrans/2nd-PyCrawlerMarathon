{
 "cells": [
  {
   "cell_type": "markdown",
   "metadata": {},
   "source": [
    "# 瀏覽器開發者工具介紹\n",
    "\n",
    "\n",
    "* 知道瀏覽器的開發者工具\n",
    "* 能夠使用瀏覽器的開發者工具觀察資料\n"
   ]
  },
  {
   "cell_type": "markdown",
   "metadata": {},
   "source": [
    "## 作業目標\n",
    "\n",
    "利用開發者工具去尋找「 https://www.zhihu.com/explore 」和「 http://aicoin.cn 」網站的 HTTP 網址，以及他所帶的 Headers 分別是哪些，試著用 request 去發送有沒有帶 Headers 的差異。\n"
   ]
  },
  {
   "cell_type": "markdown",
   "metadata": {},
   "source": [
    "### 1. https://www.zhihu.com/explore "
   ]
  },
  {
   "cell_type": "code",
   "execution_count": 1,
   "metadata": {
    "scrolled": true
   },
   "outputs": [
    {
     "name": "stdout",
     "output_type": "stream",
     "text": [
      "<html>\r\n",
      "<head><title>400 Bad Request</title></head>\r\n",
      "<body bgcolor=\"white\">\r\n",
      "<center><h1>400 Bad Request</h1></center>\r\n",
      "<hr><center>openresty</center>\r\n",
      "</body>\r\n",
      "</html>\r\n",
      "\n"
     ]
    }
   ],
   "source": [
    "import requests\n",
    "url = 'https://www.zhihu.com/explore'\n",
    "r = requests.get(url)\n",
    "r.encoding = 'utf-8'\n",
    "print(r.text)"
   ]
  },
  {
   "cell_type": "markdown",
   "metadata": {},
   "source": [
    "### 利用查看開發者工具觀察 Headers\n",
    "\n",
    "**Request Headers(15)**\n",
    "```\n",
    ":authority: www.zhihu.com\n",
    ":method: GET\n",
    ":path: /explore\n",
    ":scheme: https\n",
    "accept: text/html,application/xhtml+xml,application/xml;q=0.9,image/webp,image/apng,*/*;q=0.8,application/signed-exchange;v=b3\n",
    "accept-encoding: gzip, deflate, br\n",
    "accept-language: en-US,en;q=0.9,zh-TW;q=0.8,zh;q=0.7\n",
    "cache-control: max-age=0\n",
    "cookie: _zap=e22e00f0-aef0-4f1b-8d37-9bb4d788f48f; d_c0=\"ADCi3BjEFxCPTg8NPWnx1m-Mk-Dq12kaQho=|1569252816\"; _xsrf=462e9621-31f3-49f3-9245-16c01ba82b85; KLBRSID=ed2ad9934af8a1f80db52dcb08d13344|1580627438|1580627436\n",
    "dnt: 1\n",
    "sec-fetch-mode: navigate\n",
    "sec-fetch-site: none\n",
    "sec-fetch-user: ?1\n",
    "upgrade-insecure-requests: 1\n",
    "user-agent: Mozilla/5.0 (X11; Linux x86_64) AppleWebKit/537.36 (KHTML, like Gecko) Chrome/78.0.3904.70 Safari/537.36\n",
    "```\n",
    "---\n",
    "\n",
    "**Response Headers(24)**\n",
    "```\n",
    "cache-control: max-age=0, no-cache, no-store\n",
    "content-encoding: gzip\n",
    "content-length: 30718\n",
    "content-security-policy: img-src * data: blob:; connect-src * wss: blob:; frame-src 'self' *.zhihu.com mailto: tel: weixin: *.vzuu.com mo.m.taobao.com getpocket.com note.youdao.com safari-extension://com.evernote.safari.clipper-Q79WDW8YH9 zhihujs: captcha.guard.qcloud.com pos.baidu.com dup.baidustatic.com; script-src 'self' blob: *.zhihu.com g.alicdn.com qzonestyle.gtimg.cn res.wx.qq.com open.mobile.qq.com 'unsafe-eval' unpkg.zhimg.com unicom.zhimg.com captcha.gtimg.com captcha.guard.qcloud.com pagead2.googlesyndication.com cpro.baidustatic.com pos.baidu.com dup.baidustatic.com i.hao61.net 'nonce-c0715315-22e2-4ae3-ba05-4bcd5d1034e9' hm.baidu.com zz.bdstatic.com; style-src 'self' 'unsafe-inline' *.zhihu.com unicom.zhimg.com captcha.gtimg.com\n",
    "content-type: text/html; charset=utf-8\n",
    "date: Sun, 02 Feb 2020 07:10:52 GMT\n",
    "expires: Sun, 02 Feb 2020 07:10:52 GMT\n",
    "pragma: no-cache\n",
    "server: CLOUD ELB 1.0.0\n",
    "set-cookie: KLBRSID=ed2ad9934af8a1f80db52dcb08d13344|1580627452|1580627436; Path=/\n",
    "status: 200\n",
    "strict-transport-security: max-age=15552000; includeSubDomains\n",
    "surrogate-control: no-store\n",
    "vary: Accept-Encoding\n",
    "x-backend-response: 0.284\n",
    "x-backend-server: heifetz.heifetz.heifetz--128-075b2371-858bc447b4-jtlgh---10.213.167.195:3000[10.213.167.195:3000]\n",
    "x-content-type-options: nosniff\n",
    "x-frame-options: SAMEORIGIN\n",
    "x-haproxy-id: ac33b80c-583a-496d-bd46-1e8116a9508d\n",
    "x-idc-id: 2\n",
    "x-lb-timing: 0.292\n",
    "x-secng-response: 0.28999996185303\n",
    "x-udid: ADCi3BjEFxCPTg8NPWnx1m-Mk-Dq12kaQho=\n",
    "x-xss-protection: 1; mode=block\n",
    "```\n",
    "---\n",
    "\n",
    "**General**\n",
    "\n",
    "```\n",
    "Request URL: https://www.zhihu.com/explore\n",
    "Request Method: GET\n",
    "Status Code: 200 \n",
    "Remote Address: 104.115.249.34:443\n",
    "Referrer Policy: no-referrer-when-downgrade\n",
    "```"
   ]
  },
  {
   "cell_type": "code",
   "execution_count": 2,
   "metadata": {},
   "outputs": [
    {
     "name": "stdout",
     "output_type": "stream",
     "text": [
      "<!doctype html>\n",
      "<html lang=\"zh\" data-hairline=\"true\" data-theme=\"light\"><head><meta charSet=\"utf-8\"/><title data-react-helmet=\"true\">知乎 - 有问题，上知乎</title><meta name=\"viewport\" content=\"width=device-width,initial-scale=1,maximum-scale=1\"/><meta name=\"renderer\" content=\"webkit\"/><meta name=\"force-rendering\" content=\"webkit\"/><meta http-equiv=\"X-UA-Compatible\" content=\"IE=edge,chrome=1\"/><meta name=\"google-site-verification\" content=\"FTeR0c8arOPKh8c5DYh_9uu98_zJbaWw53J-Sch9MTg\"/><meta name=\"description\" property=\"og:description\" content=\"有问题，上知乎。知乎，可信赖的问答社区，以让每个人高效获得可信赖的解答为使命。知乎凭借认真、专业和友善的社区氛围，结构化\n"
     ]
    }
   ],
   "source": [
    "import requests\n",
    "url = 'http://www.zhihu.com'\n",
    "\n",
    "headers = {\n",
    "    'authority': 'www.zhihu.com',\n",
    "    'method': 'GET',\n",
    "    'path': '/explore',\n",
    "    'scheme': 'https',\n",
    "    'accept': 'text/html,application/xhtml+xml,application/xml;q=0.9,image/webp,image/apng,*/*;q=0.8,application/signed-exchange;v=b3',\n",
    "    'accept-encoding': 'gzip, deflate, br',\n",
    "    'accept-language': 'en-US,en;q=0.9,zh-TW;q=0.8,zh;q=0.7',\n",
    "    'cache-control': 'max-age=0',\n",
    "    'cookie': '_zap=e22e00f0-aef0-4f1b-8d37-9bb4d788f48f; d_c0=\"ADCi3BjEFxCPTg8NPWnx1m-Mk-Dq12kaQho=|1569252816\"; _xsrf=462e9621-31f3-49f3-9245-16c01ba82b85; KLBRSID=ed2ad9934af8a1f80db52dcb08d13344|1580627438|1580627436',\n",
    "    'dnt': '1',\n",
    "    'sec-fetch-mode': 'navigate',\n",
    "    'sec-fetch-site': 'none',\n",
    "    'sec-fetch-user': '?1',\n",
    "    'upgrade-insecure-requests': '1',\n",
    "    'user-agent': 'Mozilla/5.0 (X11; Linux x86_64) AppleWebKit/537.36 (KHTML, like Gecko) Chrome/78.0.3904.70 Safari/537.36'\n",
    "}\n",
    "\n",
    "r = requests.get(url, headers=headers)\n",
    "\n",
    "r.encoding = 'utf-8'\n",
    "print(r.text[0:600])"
   ]
  },
  {
   "cell_type": "markdown",
   "metadata": {},
   "source": [
    "### 2. http://aicoin.cn"
   ]
  },
  {
   "cell_type": "code",
   "execution_count": 3,
   "metadata": {
    "scrolled": true
   },
   "outputs": [
    {
     "name": "stdout",
     "output_type": "stream",
     "text": [
      "<!DOCTYPE html><html style=\"height:100%;width:100%\"><head><meta http-equiv=\"Content-Type\" content=\"text/html; charset=utf-8\" /><meta http-equiv=\"Server\" content=\"CloudWAF\" /><title id=\"title\">访问被拦截！</title><script>function bindall() {var requestid = \"30-30-14-20200202154531-d99091f9\";if(requestid==null || requestid == \"\"){return;}document.getElementById(\"d\").innerText = requestid;}</script></head><body onload=\"bindall()\" style=\"height:100%;width:100%;margin:0px;font-family:Microsoft yahei\"><div><style type=\"text/css\">\t.button{float:right;margin-right:2rem;text-decoration:none;background:white;color:#e94d4c;padding: 5px 15px 5px 15px;font-size:1rem;font-family: 微软雅黑,宋体,Arial,Helvetica,Verdana,sans-serif;font-weight:bold;border-radius:0rem;border: none;-webkit-transition:all linear 0.30s;-moz-transition:all linear 0.30s;}.button:hover{text-decoration:none;background:#e94d4c;color:#f2f2f2;}</style><input type=\"button\" class=\"button\" onclick=\"changeLanguageZh()\" value=\"中文\"/><input type=\"button\" class=\"button\"  onclick=\"changeLanguageEn()\" value=\"English\"/></div><div style=\"min-height:13.125rem;height:17%;width:100%\"><div style=\"margin-top:3.75rem;margin-left:18.4375rem;height:52.38;width:83.04%;\"><svg xmlns=\"http://www.w3.org/2000/svg\" style=\"width: 3.125rem;height: 3.125rem\" viewBox=\"0 0 50 50\"><path fill=\"#e84e4c\" d=\"M25,0A25,25,0,1,0,50,25,25,25,0,0,0,25,0Zm1.6,37.16H22.85V33.41H26.6Zm0-6.63H22.85L22.35,13H27.1Z\"/></svg><font style=\"font-family:MicrosoftYaHei;font-size:4.375rem;color:#e94d4c;margin-left: 0.75rem;font-weight: bold;\">418</font></div><div style=\"margin-left:18.4375rem;height:47.62%;width:83.04%;\"><font id=\"a\" style=\"font-family:MicrosoftYaHei;font-size:1.875rem;color:#999999;word-wrap:break-word;\">您的请求疑似攻击行为！</font><p style=\"font-family:MicrosoftYaHei;font-size:0.9rem;color:#999999;word-wrap:break-word;\"><span id=\"c\">事件ID：</span><span style=\"color:#499df2\" id=\"d\">False alarm ID</p></div></div><div style=\"height:15.625rem;width:100%;min-width:105rem;\"><div style=\"margin-left:18.4375rem;float:left;width:50rem\"><p id=\"b\" style=\"margin-top:10px\">如果您是站长，您可以前往WAF控制台进行误报屏蔽设置，让您的访问不再被拦截</p></div></div></body><script>function changeLanguageZh() {document.getElementById(\"title\").innerHTML = \"访问被拦截！\";document.getElementById(\"a\").innerHTML = \"您的请求疑似攻击行为！\";document.getElementById(\"b\").innerHTML = \"如果您是站长，您可以前往WAF控制台进行误报屏蔽设置，让您的访问不再被拦截\";document.getElementById(\"c\").innerHTML = \"事件ID：\";}function changeLanguageEn() {document.getElementById(\"title\").innerHTML = \"The access is blocked.\";document.getElementById(\"a\").innerHTML = \"Sorry, your request has been intercepted because it appears to be an attack.\";document.getElementById(\"b\").innerHTML = \"If you are the webmaster, configure related parameters on the WAF console to allow your requests.\";document.getElementById(\"c\").innerHTML = \"Event ID:\";}var language = navigator.language || navigator.browserLanguage;if (language.indexOf('zh') > -1) {changeLanguageZh();} else if (language.indexOf('en') > -1) {changeLanguageEn();} else{changeLanguageZh();}</script></html>\n",
      "\n"
     ]
    }
   ],
   "source": [
    "import requests\n",
    "\n",
    "url = 'http://aicoin.cn/'\n",
    "r = requests.get(url)\n",
    "r.encoding = 'utf-8'\n",
    "print(r.text)"
   ]
  },
  {
   "cell_type": "markdown",
   "metadata": {},
   "source": [
    "### 利用查看開發者工具觀察 Headers\n",
    "\n",
    "**Request Headers(14)**\n",
    "\n",
    "```\n",
    "Accept: text/html,application/xhtml+xml,application/xml;q=0.9,image/webp,image/apng,*/*;q=0.8,application/signed-exchange;v=b3\n",
    "Accept-Encoding: gzip, deflate, br\n",
    "Accept-Language: en-US,en;q=0.9,zh-TW;q=0.8,zh;q=0.7\n",
    "Cache-Control: max-age=0\n",
    "Connection: keep-alive\n",
    "Cookie: HWWAFSESID=6bb5f762272e778bf9; HWWAFSESTIME=1580629098114; aicoin_session=eyJpdiI6IjlqWlh1NjRGdXkxN1JiR2c0YXNvMHc9PSIsInZhbHVlIjoiNDN6SWhkSmhUaHExd2ZaWkJcL3ZwUXZiMk44OUcza0t2Ym5XdFNzUnFHYnJQOEN1RmQ2U0tZS00rbXJ4YlkxcUxPTTRBVyt3UHJSQjhzZWU0bVJQMWNnPT0iLCJtYWMiOiI0ZmMzMmE1Y2VhOTljYTVhZWFiMGM5ZmYzYjBlZjczNzRiN2UwMWViNzM4NWM2YmFjMDBiY2E4MjliNzljYjRmIn0%3D\n",
    "DNT: 1\n",
    "Host: www.aicoin.cn\n",
    "If-None-Match: W/\"1075c6-jhNcoQkJL2DZa+nPjrODfuOLKcg\"\n",
    "Sec-Fetch-Mode: navigate\n",
    "Sec-Fetch-Site: same-origin\n",
    "Sec-Fetch-User: ?1\n",
    "Upgrade-Insecure-Requests: 1\n",
    "User-Agent: Mozilla/5.0 (X11; Linux x86_64) AppleWebKit/537.36 (KHTML, like Gecko) Chrome/78.0.3904.70 Safari/537.36\n",
    "```\n",
    "\n",
    "---\n",
    "\n",
    "**Response Headers(7)**\n",
    "\n",
    "```\n",
    "Connection: keep-alive\n",
    "Content-Encoding: gzip\n",
    "Content-Type: text/html; charset=utf-8\n",
    "Date: Sun, 02 Feb 2020 07:38:28 GMT\n",
    "ETag: W/\"107803-bX7YbaAjsWgL/otL0k+VbUfYYz0\"\n",
    "Server: CloudWAF\n",
    "Transfer-Encoding: chunked\n",
    "```\n",
    "\n",
    "---\n",
    "\n",
    "**General**\n",
    "\n",
    "```\n",
    "Request URL: https://www.aicoin.cn/\n",
    "Request Method: GET\n",
    "Status Code: 200 OK\n",
    "Remote Address: 139.159.208.109:443\n",
    "Referrer Policy: no-referrer-when-downgrade\n",
    "```"
   ]
  },
  {
   "cell_type": "code",
   "execution_count": 4,
   "metadata": {},
   "outputs": [
    {
     "name": "stdout",
     "output_type": "stream",
     "text": [
      "<!DOCTYPE html><html lang=\"zh\"><head><meta charSet=\"utf-8\" class=\"next-head\"/><meta name=\"viewport\" content=\"width=device-width, initial-scale=1\" class=\"jsx-1671588135 next-head\"/><meta name=\"description\" content=\"AICoin拥有全面而优质的区块链资源，提供实时行情、专业K线、数据分析、资产管理等专业服务，更高效地提供有价值的信息，提升资产管理的效率，成为行情数据分析的领跑者。\" class=\"jsx-1671588135 next-head\"/><link rel=\"canonical\" href=\"https://www.aicoin.cn?lang=zh\" class=\"jsx-1671588135 next-head\"/><title class=\"jsx-1671588135 next-head\">AICoin - 为价值 · 更高效</title><link rel=\"preload\" href=\"https://assets-www.aicoin.net.cn/beta-v20/_next/static/pwKJ8HUwQ7l9Yg9PAPbho/pages\n"
     ]
    }
   ],
   "source": [
    "import requests\n",
    "url = 'http://aicoin.cn/'\n",
    "\n",
    "headers = {\n",
    "    'Accept': 'text/html,application/xhtml+xml,application/xml;q=0.9,image/webp,image/apng,*/*;q=0.8,application/signed-exchange;v=b3',\n",
    "    'Accept-Encoding': 'gzip, deflate, br',\n",
    "    'Accept-Language': 'en-US,en;q=0.9,zh-TW;q=0.8,zh;q=0.7',\n",
    "    'Cache-Control': 'max-age=0',\n",
    "    'Connection': 'keep-alive',\n",
    "    'Cookie': 'HWWAFSESID=6bb5f762272e778bf9; HWWAFSESTIME=1580629098114; aicoin_session=eyJpdiI6IjlqWlh1NjRGdXkxN1JiR2c0YXNvMHc9PSIsInZhbHVlIjoiNDN6SWhkSmhUaHExd2ZaWkJcL3ZwUXZiMk44OUcza0t2Ym5XdFNzUnFHYnJQOEN1RmQ2U0tZS00rbXJ4YlkxcUxPTTRBVyt3UHJSQjhzZWU0bVJQMWNnPT0iLCJtYWMiOiI0ZmMzMmE1Y2VhOTljYTVhZWFiMGM5ZmYzYjBlZjczNzRiN2UwMWViNzM4NWM2YmFjMDBiY2E4MjliNzljYjRmIn0%3D',\n",
    "    'DNT': '1',\n",
    "    #'Host': 'www.aicoin.cn',\n",
    "    'If-None-Match': 'W/\"1075c6-jhNcoQkJL2DZa+nPjrODfuOLKcg\"',\n",
    "    'Sec-Fetch-Mode': 'navigate',\n",
    "    'Sec-Fetch-Site': 'same-origin',\n",
    "    'Sec-Fetch-User': '?1',\n",
    "    'Upgrade-Insecure-Requests': '1',\n",
    "    'User-Agent': 'Mozilla/5.0 (X11; Linux x86_64) AppleWebKit/537.36 (KHTML, like Gecko) Chrome/78.0.3904.70 Safari/537.36'\n",
    "}\n",
    "\n",
    "r = requests.get(url, headers=headers)\n",
    "print(r.text[0:600])"
   ]
  },
  {
   "cell_type": "code",
   "execution_count": null,
   "metadata": {},
   "outputs": [],
   "source": []
  }
 ],
 "metadata": {
  "kernelspec": {
   "display_name": "Python 3",
   "language": "python",
   "name": "python3"
  },
  "language_info": {
   "codemirror_mode": {
    "name": "ipython",
    "version": 3
   },
   "file_extension": ".py",
   "mimetype": "text/x-python",
   "name": "python",
   "nbconvert_exporter": "python",
   "pygments_lexer": "ipython3",
   "version": "3.7.3"
  }
 },
 "nbformat": 4,
 "nbformat_minor": 2
}
