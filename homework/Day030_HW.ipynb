{
 "cells": [
  {
   "cell_type": "markdown",
   "metadata": {},
   "source": [
    "# 實務上的爬蟲與挑戰\n",
    "\n",
    "\n",
    "* 實務上爬蟲可能遇到的問題有哪些\n",
    "* 淺談常見防爬蟲機制與處理策略\n",
    "* 如何建構一個可以自動持續更新的爬蟲程式\n",
    "\n",
    "\n"
   ]
  },
  {
   "cell_type": "markdown",
   "metadata": {},
   "source": [
    "## 作業目標\n",
    "\n",
    "* （簡答題）試著舉出一到三個爬蟲可能會遇到的問題導致無法抓取的？\n"
   ]
  },
  {
   "cell_type": "markdown",
   "metadata": {},
   "source": [
    "### （簡答題）試著舉出一到三個爬蟲可能會遇到的問題導致無法抓取的？"
   ]
  },
  {
   "cell_type": "code",
   "execution_count": 2,
   "metadata": {},
   "outputs": [
    {
     "data": {
      "text/plain": [
       "'\\nYour Input Here\\n'"
      ]
     },
     "execution_count": 2,
     "metadata": {},
     "output_type": "execute_result"
    }
   ],
   "source": [
    "\"\"\"\n",
    "Your Input Here\n",
    "\"\"\""
   ]
  },
  {
   "cell_type": "markdown",
   "metadata": {},
   "source": [
    "[Answer]:\n",
    "\n",
    "(1). 調整 Header 資訊\n",
    "\n",
    "(2). 處理 Cookie\n",
    "\n",
    "(3). 時間: 有些網站會嚴密執行速度太快\n",
    "\n",
    "(4). 隱藏輸入欄位: HTML表單的\"隱藏\"欄位，讓瀏覽器可以看到，但使用這看不到(除非檢視網站原始碼)。"
   ]
  },
  {
   "cell_type": "code",
   "execution_count": null,
   "metadata": {
    "collapsed": true
   },
   "outputs": [],
   "source": []
  }
 ],
 "metadata": {
  "kernelspec": {
   "display_name": "Python 3",
   "language": "python",
   "name": "python3"
  },
  "language_info": {
   "codemirror_mode": {
    "name": "ipython",
    "version": 3
   },
   "file_extension": ".py",
   "mimetype": "text/x-python",
   "name": "python",
   "nbconvert_exporter": "python",
   "pygments_lexer": "ipython3",
   "version": "3.6.6"
  }
 },
 "nbformat": 4,
 "nbformat_minor": 2
}
