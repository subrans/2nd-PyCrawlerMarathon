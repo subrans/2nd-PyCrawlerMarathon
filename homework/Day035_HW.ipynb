{
 "cells": [
  {
   "cell_type": "markdown",
   "metadata": {},
   "source": [
    "# 加速：多線程爬蟲\n",
    "\n",
    "\n",
    "\n",
    "* 了解知乎 API 使用方式與回傳內容\n",
    "* 撰寫程式存取 API 且添加標頭"
   ]
  },
  {
   "cell_type": "markdown",
   "metadata": {},
   "source": [
    "## 作業目標\n",
    "\n",
    "* 找一個之前實作過的爬蟲改用多線程改寫，比較前後時間的差異。\n",
    "\n",
    "\n",
    "\n"
   ]
  },
  {
   "cell_type": "code",
   "execution_count": 1,
   "metadata": {},
   "outputs": [
    {
     "data": {
      "text/plain": [
       "'\\nYour Code\\n'"
      ]
     },
     "execution_count": 1,
     "metadata": {},
     "output_type": "execute_result"
    }
   ],
   "source": [
    "'''\n",
    "Your Code\n",
    "'''"
   ]
  },
  {
   "cell_type": "code",
   "execution_count": 5,
   "metadata": {
    "collapsed": true
   },
   "outputs": [],
   "source": [
    "import requests\n",
    "import _thread\n",
    "import time\n",
    "\n",
    "urls = [\"https://www.ettoday.net/news/focus/%E8%B2%A1%E7%B6%93/\",   #財經新聞 \n",
    "        'https://www.ettoday.net/news/news-list-2020-04-07-10.htm', #體育\n",
    "        'https://www.ettoday.net/news/news-list-2020-04-07-2.htm', #國際\n",
    "        'https://www.ettoday.net/news/hot-news.htm', #熱門\n",
    "        'https://www.ettoday.net/news/focus/焦點新聞/']  #焦點"
   ]
  },
  {
   "cell_type": "code",
   "execution_count": 6,
   "metadata": {},
   "outputs": [
    {
     "name": "stdout",
     "output_type": "stream",
     "text": [
      "https://www.ettoday.net/news/focus/%E8%B2%A1%E7%B6%93/\n",
      "https://www.ettoday.net/news/news-list-2020-04-07-10.htm\n",
      "https://www.ettoday.net/news/news-list-2020-04-07-2.htm\n",
      "https://www.ettoday.net/news/hot-news.htm\n",
      "https://www.ettoday.net/news/focus/焦點新聞/\n",
      "0.009999990463256836\n"
     ]
    }
   ],
   "source": [
    "startTime = time.time()\n",
    "\n",
    "for url in urls:\n",
    "    print(url)\n",
    "    _thread.start_new_thread( requests.get, (url, ) )\n",
    "\n",
    "finishTime = time.time()\n",
    "print(finishTime - startTime) # 利用 thread 的爬蟲所需時間"
   ]
  },
  {
   "cell_type": "code",
   "execution_count": 7,
   "metadata": {},
   "outputs": [
    {
     "name": "stdout",
     "output_type": "stream",
     "text": [
      "https://www.ettoday.net/news/focus/%E8%B2%A1%E7%B6%93/\n",
      "https://www.ettoday.net/news/news-list-2020-04-07-10.htm\n",
      "https://www.ettoday.net/news/news-list-2020-04-07-2.htm\n",
      "https://www.ettoday.net/news/hot-news.htm\n",
      "https://www.ettoday.net/news/focus/焦點新聞/\n",
      "0.42303919792175293\n"
     ]
    }
   ],
   "source": [
    "startTime = time.time()\n",
    "\n",
    "for url in urls:\n",
    "    print(url)\n",
    "    requests.get(url)\n",
    "\n",
    "finishTime = time.time()\n",
    "print(finishTime - startTime) # 正常情況的爬蟲所需時間"
   ]
  },
  {
   "cell_type": "code",
   "execution_count": null,
   "metadata": {
    "collapsed": true
   },
   "outputs": [],
   "source": []
  }
 ],
 "metadata": {
  "colab": {
   "name": "homework.ipynb",
   "provenance": []
  },
  "kernelspec": {
   "display_name": "Python 3",
   "language": "python",
   "name": "python3"
  },
  "language_info": {
   "codemirror_mode": {
    "name": "ipython",
    "version": 3
   },
   "file_extension": ".py",
   "mimetype": "text/x-python",
   "name": "python",
   "nbconvert_exporter": "python",
   "pygments_lexer": "ipython3",
   "version": "3.6.6"
  }
 },
 "nbformat": 4,
 "nbformat_minor": 1
}
