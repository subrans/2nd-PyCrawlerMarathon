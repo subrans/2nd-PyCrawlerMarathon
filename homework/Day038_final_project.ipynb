{
 "cells": [
  {
   "cell_type": "code",
   "execution_count": 1,
   "metadata": {},
   "outputs": [],
   "source": [
    "import requests\n",
    "from bs4 import BeautifulSoup\n",
    "import pandas as pd\n",
    "import time\n",
    "import re\n",
    "import matplotlib"
   ]
  },
  {
   "cell_type": "code",
   "execution_count": 2,
   "metadata": {},
   "outputs": [],
   "source": [
    "import matplotlib.pyplot as plt\n",
    "#from jieba import cut\n",
    "#from wordcloud import WordCloud\n",
    "from collections import Counter"
   ]
  },
  {
   "cell_type": "code",
   "execution_count": 3,
   "metadata": {},
   "outputs": [],
   "source": [
    "url = 'https://www.ptt.cc/bbs/Gossiping/index.html'\n",
    "headers = {'user_agent': 'Mozilla/5.0 (X11; Linux x86_64) AppleWebKit/537.36 (KHTML, like Gecko) Chrome/79.0.3945.130 Safari/537.36'}\n",
    "cookies = {'over18': '1'}\n",
    "res_pages = 5"
   ]
  },
  {
   "cell_type": "code",
   "execution_count": 4,
   "metadata": {},
   "outputs": [],
   "source": [
    "def update_sublink_attr(link, ip, loc, txt):\n",
    "    res = requests.get(link, headers=headers, cookies=cookies)\n",
    "    res.encoding = 'utf-8'\n",
    "    soup = BeautifulSoup(res.text, 'html.parser')\n",
    "\n",
    "    txt.append(soup.find(id=\"main-content\").text.replace('\\n', '').replace('\\r', '').strip())\n",
    "    f = 0\n",
    "    for x in soup.find_all('div'):\n",
    "        if f != 0:\n",
    "            break\n",
    "        for i in x.find_all(class_=\"f2\"):\n",
    "            if '來自: ' in str(i):\n",
    "                ip.append(str(i).split('來自: ')[1].split(' (')[0])\n",
    "                loc.append(str(i).split(' (')[1].split(')')[0])\n",
    "                f += 1\n",
    "                break"
   ]
  },
  {
   "cell_type": "code",
   "execution_count": 5,
   "metadata": {},
   "outputs": [],
   "source": [
    "def update_table(soup, title, author, date, link, ip, loc, txt):\n",
    "    for s in soup.find_all(class_=\"r-ent\"):\n",
    "        try:\n",
    "            title.append(s.find(class_=\"title\").text.replace('\\t', '').replace('\\n', ''))\n",
    "            author.append(s.find(class_=\"author\").text)\n",
    "            date.append(s.find(class_=\"date\").text.strip())\n",
    "            \n",
    "            sublink = 'https://www.ptt.cc' + s.find(class_=\"title\").a['href']\n",
    "            link.append(sublink)\n",
    "            print(\".\", end=\"\")\n",
    "            \n",
    "            update_sublink_attr(sublink, ip, loc, txt)\n",
    "            time.sleep(0.5)\n",
    "        except:\n",
    "            no = len(title)\n",
    "            title[-1] = []\n",
    "            \n",
    "            if len(author) == no:\n",
    "                author[-1] = []\n",
    "            \n",
    "            if len(date) == no:\n",
    "                date[-1] = []\n",
    "\n",
    "            if len(link) == no:\n",
    "                link[-1] = []\n",
    "            \n",
    "            if len(ip) == no:\n",
    "                ip[-1] = []\n",
    "            \n",
    "            if len(loc) == no:\n",
    "                loc[-1] = []\n",
    "\n",
    "            if len(txt) == no:\n",
    "                txt[-1] = []\n",
    "            \n",
    "            print(\"(\", no, \")\", end=\"\")\n",
    "            continue"
   ]
  },
  {
   "cell_type": "code",
   "execution_count": 6,
   "metadata": {
    "scrolled": true
   },
   "outputs": [],
   "source": [
    "def update_soup(url, cycle):\n",
    "    title  = []\n",
    "    author = []\n",
    "    date   = []\n",
    "    link   = []\n",
    "    ip     = []\n",
    "    loc    = []\n",
    "    txt    = []\n",
    "\n",
    "    headers = {'user_agent': 'Mozilla/5.0 (X11; Linux x86_64) AppleWebKit/537.36 (KHTML, like Gecko) Chrome/79.0.3945.130 Safari/537.36'}\n",
    "    cookies = {'over18': '1'}\n",
    "\n",
    "    for i in range(cycle):\n",
    "        res = requests.get(url, headers=headers, cookies=cookies)\n",
    "        res.encoding = 'utf-8'\n",
    "        soup = BeautifulSoup(res.text, 'html.parser')\n",
    "        print(i, url, end=\"\")\n",
    "        btn = soup.find(class_=\"btn-group btn-group-paging\").find_all('a')[1]['href']\n",
    "        url = 'https://www.ptt.cc' + btn\n",
    "        print(\" <\", end=\"\")\n",
    "        update_table(soup, title, author, date, link, ip, loc, txt)\n",
    "        time.sleep(0.5)\n",
    "        print(\">\")\n",
    "        \n",
    "    table = {'title': title, 'author': author, 'date':date, 'ip':ip, 'loc':loc, 'text':txt, 'link':link}\n",
    "    return table"
   ]
  },
  {
   "cell_type": "code",
   "execution_count": 7,
   "metadata": {},
   "outputs": [
    {
     "name": "stdout",
     "output_type": "stream",
     "text": [
      "0 https://www.ptt.cc/bbs/Gossiping/index.html <........................>\n",
      "1 https://www.ptt.cc/bbs/Gossiping/index39070.html <....................>\n",
      "2 https://www.ptt.cc/bbs/Gossiping/index39069.html <....................>\n",
      "3 https://www.ptt.cc/bbs/Gossiping/index39068.html <....................>\n",
      "4 https://www.ptt.cc/bbs/Gossiping/index39067.html <....................>\n"
     ]
    }
   ],
   "source": [
    "table = {}\n",
    "table = update_soup(url, res_pages)"
   ]
  },
  {
   "cell_type": "code",
   "execution_count": 8,
   "metadata": {
    "scrolled": true
   },
   "outputs": [
    {
     "name": "stdout",
     "output_type": "stream",
     "text": [
      "Title\t 104 [問卦] 被Billie Eilish踩坐有多爽\n",
      "Author\t 104 guohuo\n",
      "Date\t 104 2/25\n",
      "Link\t 104 https://www.ptt.cc/bbs/Gossiping/M.1582562034.A.106.html\n",
      "IP\t 104 114.45.102.159\n",
      "Loc\t 104 臺灣\n",
      "Text\t 104 作者guohuo (帕羅奧圖馬克祖克伯)看板Gossiping標題[問卦] 被Billie Eilish踩坐有多爽時間Tue Feb 25 00:33:52 2020躺著被Billie Eilish穿鞋子踩https://i.imgur.com/uixxexw.jpghttps://i.imgur.com/dS5jWFI.jpg被Billie Eilish坐在身上 還要做伏地挺身https://i.imgur.com/VyWaVrA.jpghttps://i.imgur.com/eKsY2OC.jpg那個男的是不是很爽很幸運能被Billie Eilish踩坐是不是很爽有沒有八卦?--※ 發信站: 批踢踢實業坊(ptt.cc), 來自: 114.45.102.159 (臺灣)※ 文章網址: https://www.ptt.cc/bbs/Gossiping/M.1582562034.A.106.html→ dlam002: 誰？     39.8.98.15 02/25 00:34噓 qaz123505: 看起來像男的 101.12.244.254 02/25 00:34→ pyrolith: 黑寡婦180.217.225.109 02/25 00:34推 heavenlyken: 五樓肛門被甲甲穿釘鞋踩   114.39.4.168 02/25 00:35推 nolimitamy19: bad guy180.217.160.255 02/25 00:35噓 luke11130177: http://i.imgur.com/EDXaxrt.jpg111.249.106.200 02/25 00:35噓 viable: 全殘欸男的幻想世界不用公開發表吧 101.137.22.211 02/25 00:35噓 f17690815: 會直接被這肥婆壓死吧  27.52.105.124 02/25 00:35→ logitech2004: 大奶118.169.245.165 02/25 00:36推 guesswhen: 2樓id看起來像處男  122.116.34.78 02/25 00:36推 vvvvvvvvvvv: 不是我的菜  180.218.23.97 02/25 00:36推 tntbear: 奶超大223.136.114.190 02/25 00:41推 crazyke313: 平常都藏起來 隱乳界的霸主 118.168.139.57 02/25 00:43→ xm3k0828: 超正  101.12.24.185 02/25 00:43\n"
     ]
    }
   ],
   "source": [
    "print('Title\\t',  len(table['title']),  table['title'][0])\n",
    "print('Author\\t', len(table['author']), table['author'][0])\n",
    "print('Date\\t',   len(table['date']),   table['date'][0])\n",
    "print('Link\\t',   len(table['link']),   table['link'][0])\n",
    "print('IP\\t',     len(table['ip']),     table['ip'][0])\n",
    "print('Loc\\t',    len(table['loc']),    table['loc'][0])\n",
    "print('Text\\t',   len(table['text']),   table['text'][0])"
   ]
  },
  {
   "cell_type": "code",
   "execution_count": 9,
   "metadata": {
    "scrolled": true
   },
   "outputs": [
    {
     "name": "stdout",
     "output_type": "stream",
     "text": [
      "<class 'pandas.core.frame.DataFrame'>\n",
      "RangeIndex: 104 entries, 0 to 103\n",
      "Data columns (total 7 columns):\n",
      "title     104 non-null object\n",
      "author    104 non-null object\n",
      "date      104 non-null object\n",
      "ip        104 non-null object\n",
      "loc       104 non-null object\n",
      "text      104 non-null object\n",
      "link      104 non-null object\n",
      "dtypes: object(7)\n",
      "memory usage: 5.8+ KB\n"
     ]
    },
    {
     "data": {
      "text/html": [
       "<div>\n",
       "<style scoped>\n",
       "    .dataframe tbody tr th:only-of-type {\n",
       "        vertical-align: middle;\n",
       "    }\n",
       "\n",
       "    .dataframe tbody tr th {\n",
       "        vertical-align: top;\n",
       "    }\n",
       "\n",
       "    .dataframe thead th {\n",
       "        text-align: right;\n",
       "    }\n",
       "</style>\n",
       "<table border=\"1\" class=\"dataframe\">\n",
       "  <thead>\n",
       "    <tr style=\"text-align: right;\">\n",
       "      <th></th>\n",
       "      <th>title</th>\n",
       "      <th>author</th>\n",
       "      <th>date</th>\n",
       "      <th>ip</th>\n",
       "      <th>loc</th>\n",
       "      <th>text</th>\n",
       "      <th>link</th>\n",
       "    </tr>\n",
       "  </thead>\n",
       "  <tbody>\n",
       "    <tr>\n",
       "      <th>0</th>\n",
       "      <td>[問卦] 被Billie Eilish踩坐有多爽</td>\n",
       "      <td>guohuo</td>\n",
       "      <td>2/25</td>\n",
       "      <td>114.45.102.159</td>\n",
       "      <td>臺灣</td>\n",
       "      <td>作者guohuo (帕羅奧圖馬克祖克伯)看板Gossiping標題[問卦] 被Billie ...</td>\n",
       "      <td>https://www.ptt.cc/bbs/Gossiping/M.1582562034....</td>\n",
       "    </tr>\n",
       "    <tr>\n",
       "      <th>1</th>\n",
       "      <td>Re: [問卦] 吞了30顆安眠藥會怎樣</td>\n",
       "      <td>notmine</td>\n",
       "      <td>2/25</td>\n",
       "      <td>175.96.84.159</td>\n",
       "      <td>臺灣</td>\n",
       "      <td>作者notmine (just melancholy)看板Gossiping標題Re: [問...</td>\n",
       "      <td>https://www.ptt.cc/bbs/Gossiping/M.1582562093....</td>\n",
       "    </tr>\n",
       "    <tr>\n",
       "      <th>2</th>\n",
       "      <td>[問卦] 現在首抽台灣算什麼等級？</td>\n",
       "      <td>attilalin</td>\n",
       "      <td>2/25</td>\n",
       "      <td>111.251.156.170</td>\n",
       "      <td>臺灣</td>\n",
       "      <td>作者attilalin (噗噗)看板Gossiping標題[問卦] 現在首抽台灣算什麼等級？...</td>\n",
       "      <td>https://www.ptt.cc/bbs/Gossiping/M.1582562097....</td>\n",
       "    </tr>\n",
       "    <tr>\n",
       "      <th>3</th>\n",
       "      <td>[問卦] WHO最近怎麼沒新聞了?</td>\n",
       "      <td>EBVirus</td>\n",
       "      <td>2/25</td>\n",
       "      <td>111.253.66.19</td>\n",
       "      <td>臺灣</td>\n",
       "      <td>作者EBVirus (洨洨積極哥)看板Gossiping標題[問卦] WHO最近怎麼沒新聞了...</td>\n",
       "      <td>https://www.ptt.cc/bbs/Gossiping/M.1582562101....</td>\n",
       "    </tr>\n",
       "    <tr>\n",
       "      <th>4</th>\n",
       "      <td>[問卦] 怎麼樣婉轉地跟教授說窩不想做他交代的事</td>\n",
       "      <td>poeta</td>\n",
       "      <td>2/25</td>\n",
       "      <td>125.224.215.197</td>\n",
       "      <td>臺灣</td>\n",
       "      <td>作者poeta (鍵盤詩人)看板Gossiping標題[問卦] 怎麼樣婉轉地跟教授說窩不想做...</td>\n",
       "      <td>https://www.ptt.cc/bbs/Gossiping/M.1582562146....</td>\n",
       "    </tr>\n",
       "  </tbody>\n",
       "</table>\n",
       "</div>"
      ],
      "text/plain": [
       "                      title     author  date               ip loc  \\\n",
       "0  [問卦] 被Billie Eilish踩坐有多爽     guohuo  2/25   114.45.102.159  臺灣   \n",
       "1      Re: [問卦] 吞了30顆安眠藥會怎樣    notmine  2/25    175.96.84.159  臺灣   \n",
       "2         [問卦] 現在首抽台灣算什麼等級？  attilalin  2/25  111.251.156.170  臺灣   \n",
       "3         [問卦] WHO最近怎麼沒新聞了?    EBVirus  2/25    111.253.66.19  臺灣   \n",
       "4  [問卦] 怎麼樣婉轉地跟教授說窩不想做他交代的事      poeta  2/25  125.224.215.197  臺灣   \n",
       "\n",
       "                                                text  \\\n",
       "0  作者guohuo (帕羅奧圖馬克祖克伯)看板Gossiping標題[問卦] 被Billie ...   \n",
       "1  作者notmine (just melancholy)看板Gossiping標題Re: [問...   \n",
       "2  作者attilalin (噗噗)看板Gossiping標題[問卦] 現在首抽台灣算什麼等級？...   \n",
       "3  作者EBVirus (洨洨積極哥)看板Gossiping標題[問卦] WHO最近怎麼沒新聞了...   \n",
       "4  作者poeta (鍵盤詩人)看板Gossiping標題[問卦] 怎麼樣婉轉地跟教授說窩不想做...   \n",
       "\n",
       "                                                link  \n",
       "0  https://www.ptt.cc/bbs/Gossiping/M.1582562034....  \n",
       "1  https://www.ptt.cc/bbs/Gossiping/M.1582562093....  \n",
       "2  https://www.ptt.cc/bbs/Gossiping/M.1582562097....  \n",
       "3  https://www.ptt.cc/bbs/Gossiping/M.1582562101....  \n",
       "4  https://www.ptt.cc/bbs/Gossiping/M.1582562146....  "
      ]
     },
     "execution_count": 9,
     "metadata": {},
     "output_type": "execute_result"
    }
   ],
   "source": [
    "df = pd.DataFrame(table)\n",
    "df.info()\n",
    "df.head()"
   ]
  },
  {
   "cell_type": "code",
   "execution_count": 10,
   "metadata": {},
   "outputs": [
    {
     "data": {
      "text/plain": [
       "104"
      ]
     },
     "execution_count": 10,
     "metadata": {},
     "output_type": "execute_result"
    }
   ],
   "source": [
    "df['loc'].count()"
   ]
  },
  {
   "cell_type": "code",
   "execution_count": 11,
   "metadata": {},
   "outputs": [
    {
     "data": {
      "text/plain": [
       "Index(['臺灣', '美國', '日本'], dtype='object')"
      ]
     },
     "execution_count": 11,
     "metadata": {},
     "output_type": "execute_result"
    }
   ],
   "source": [
    "df['loc'].value_counts().keys()"
   ]
  },
  {
   "cell_type": "code",
   "execution_count": 12,
   "metadata": {
    "scrolled": true
   },
   "outputs": [
    {
     "data": {
      "image/png": "[encoded data removed]",
      "text/plain": [
       "<Figure size 432x288 with 1 Axes>"
      ]
     },
     "metadata": {},
     "output_type": "display_data"
    }
   ],
   "source": [
    "plt.rcParams['font.sans-serif'] = ['Noto Sans CJK JP']\n",
    "plt.pie(df['loc'].value_counts(), labels=df['loc'].value_counts().keys(), autopct='%1.1f%%', shadow=True, startangle=90)\n",
    "plt.axis('equal') \n",
    "plt.show()"
   ]
  },
  {
   "cell_type": "code",
   "execution_count": null,
   "metadata": {},
   "outputs": [],
   "source": []
  }
 ],
 "metadata": {
  "kernelspec": {
   "display_name": "Python 3",
   "language": "python",
   "name": "python3"
  },
  "language_info": {
   "codemirror_mode": {
    "name": "ipython",
    "version": 3
   },
   "file_extension": ".py",
   "mimetype": "text/x-python",
   "name": "python",
   "nbconvert_exporter": "python",
   "pygments_lexer": "ipython3",
   "version": "3.7.3"
  }
 },
 "nbformat": 4,
 "nbformat_minor": 2
}
